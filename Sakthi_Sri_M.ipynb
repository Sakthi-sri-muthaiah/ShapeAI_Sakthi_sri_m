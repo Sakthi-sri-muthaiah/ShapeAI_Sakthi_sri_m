{
  "nbformat": 4,
  "nbformat_minor": 0,
  "metadata": {
    "colab": {
      "name": "Sakthi Sri. M",
      "provenance": []
    },
    "kernelspec": {
      "name": "python3",
      "display_name": "Python 3"
    },
    "language_info": {
      "name": "python"
    }
  },
  "cells": [
    {
      "cell_type": "code",
      "metadata": {
        "colab": {
          "base_uri": "https://localhost:8080/"
        },
        "id": "8LODTwnJcU7b",
        "outputId": "66af7090-6ae2-419d-b8c1-c262fde3608d"
      },
      "source": [
        "\n",
        "from keras.datasets import mnist\n",
        "\n",
        "data = mnist.load_data()"
      ],
      "execution_count": 1,
      "outputs": [
        {
          "output_type": "stream",
          "text": [
            "Downloading data from https://storage.googleapis.com/tensorflow/tf-keras-datasets/mnist.npz\n",
            "11493376/11490434 [==============================] - 0s 0us/step\n"
          ],
          "name": "stdout"
        }
      ]
    },
    {
      "cell_type": "markdown",
      "metadata": {
        "id": "2-ypGXWAcvJh"
      },
      "source": [
        "Define Traning and Testing data"
      ]
    },
    {
      "cell_type": "code",
      "metadata": {
        "id": "Oz9TkPE1an4j"
      },
      "source": [
        "((x_train, y_train) , (x_test, y_test)) = data"
      ],
      "execution_count": null,
      "outputs": []
    },
    {
      "cell_type": "code",
      "metadata": {
        "id": "Ch0IcQx8agrM"
      },
      "source": [
        "x_train = x_train.reshape((x_train.shape[0],28*28)).astype('float32')\n",
        "x_test = x_test.reshape((x_test.shape[0],28*28)).astype('float32')"
      ],
      "execution_count": null,
      "outputs": []
    },
    {
      "cell_type": "code",
      "metadata": {
        "id": "u54nYmT0aSVw"
      },
      "source": [
        "x_train = x_train / 255\n",
        "x_test = x_test / 255"
      ],
      "execution_count": null,
      "outputs": []
    },
    {
      "cell_type": "code",
      "metadata": {
        "id": "zgOc4CIJfThI"
      },
      "source": [
        "from keras.utils import np_utils\n",
        "\n",
        "print(y_test.shape)\n",
        "\n",
        "y_train = np_utils.to_categorical(y_train)\n",
        "y_test = np_utils.to_categorical(y_test)\n",
        "\n",
        "num_classes = y_test.shape[1]\n",
        "print(y_test.shape)"
      ],
      "execution_count": null,
      "outputs": []
    },
    {
      "cell_type": "code",
      "metadata": {
        "id": "PaPg08ViuWy8"
      },
      "source": [
        "from keras.models import sequential\n",
        "from keras.layers import Dense"
      ],
      "execution_count": null,
      "outputs": []
    },
    {
      "cell_type": "code",
      "metadata": {
        "id": "14Q0Osy7aDtU"
      },
      "source": [
        "models = sequential()\n",
        "models.add(Dense(32, input_dim = 28*28,activation='relu'))\n",
        "models.add(Dense(64, activation='relu'))\n",
        "models.add(Dense(10, activation='softmax'))"
      ],
      "execution_count": null,
      "outputs": []
    },
    {
      "cell_type": "code",
      "metadata": {
        "id": "Oq4kuqbPZ0aH"
      },
      "source": [
        "models.compile(loss='categorical_crossentropy', optimizer='adam' , metrics=['accuracy'])"
      ],
      "execution_count": null,
      "outputs": []
    },
    {
      "cell_type": "code",
      "metadata": {
        "id": "YEfdphm1ZteJ"
      },
      "source": [
        "models.summary()"
      ],
      "execution_count": null,
      "outputs": []
    },
    {
      "cell_type": "code",
      "metadata": {
        "id": "1p8ADh-OZkrB"
      },
      "source": [
        "models.fit(x_train,y_train,epochs=10,batch_size=100)"
      ],
      "execution_count": null,
      "outputs": []
    },
    {
      "cell_type": "code",
      "metadata": {
        "id": "XCjOsNPNZXqA"
      },
      "source": [
        "scores = models.evaluate(x_test,y_test)\n",
        "print(scorces)"
      ],
      "execution_count": null,
      "outputs": []
    }
  ]
}